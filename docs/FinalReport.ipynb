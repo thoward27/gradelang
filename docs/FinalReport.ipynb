{
 "cells": [
  {
   "cell_type": "code",
   "execution_count": null,
   "metadata": {},
   "outputs": [],
   "source": [
    "\"\"\"\n",
    "Introduction:\n",
    "\n",
    "Grade is an autograding framework for Python which provides more flexibility than traditional Python TestCases \n",
    "by allowing for arbitrarily complex testing conditions. Gradelang is a domain specific language for the Grade framework.\n",
    "It allows graders to create question structures to evaluate student executables. \n",
    "\n",
    "By creating Gradelang, we hope it will make it easier for teachers and graders to evaluate student code quickly, easily,\n",
    "and fairly. We also hope that the ease and flexibility of testing will create more space for creativity in assignment\n",
    "design.\n",
    "\n",
    "\n",
    "Implementation:\n",
    "\n",
    "\n",
    "\n",
    "Challenges:\n",
    "\n",
    "\n",
    "Examples:\n",
    "\"\"\"\n",
    "\n",
    "\"\"\"\n",
    "Conclusions:\n",
    "\n",
    "\"\"\""
   ]
  }
 ],
 "metadata": {
  "kernelspec": {
   "display_name": "Python 3",
   "language": "python",
   "name": "python3"
  },
  "language_info": {
   "codemirror_mode": {
    "name": "ipython",
    "version": 3
   },
   "file_extension": ".py",
   "mimetype": "text/x-python",
   "name": "python",
   "nbconvert_exporter": "python",
   "pygments_lexer": "ipython3",
   "version": "3.7.3"
  }
 },
 "nbformat": 4,
 "nbformat_minor": 2
}
